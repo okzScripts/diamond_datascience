{
 "cells": [
  {
   "cell_type": "markdown",
   "id": "fdc86990",
   "metadata": {},
   "source": [
    "Del 1 – Teoretiska frågor och Python-övningar\n"
   ]
  },
  {
   "cell_type": "markdown",
   "id": "e36003ad",
   "metadata": {},
   "source": [
    "1. Vad är skillnaden på en tuple och list i Python? Är den ena datatypen bättre än den andra?\n"
   ]
  },
  {
   "cell_type": "markdown",
   "id": "8318c47d",
   "metadata": {},
   "source": [
    "Svar:\n",
    "En tuple är en datatyp som kan lagra flertalet värden. En tuple är immutable vilket menas med att den ej går att ändra när den har skapats.\n",
    "en tuple deklareras med parenteser, såhär:\n",
    "\n",
    "- my_tuple = (1,\"hej\",15,True, 5.1)\n",
    "\n",
    "- my_tuple innehåller värdena: 1: integer, \n",
    "    - \"hej\":string,\n",
    "    - 15: integer, \n",
    "    - True: booleanskt värde av sant, \n",
    "    - 5.1: float (decimaltal)\n",
    "\n",
    "En list eller lista är mutable datastruktur. Vilket menas med att elementen kan ändras, adderas nya och tas bort.\n",
    "En list deklareras med hakparenteser, såhär:\n",
    "\n",
    "- my_list = [3,\"Oskar\", 7.2, False]\n",
    "- my_list innehåller värdena:\n",
    "    - 3: integer\n",
    "    - \"Oskar\": string\n",
    "    - 7.2: float (decimaltal)\n",
    "    - False: booleanskt värde av falskt\n",
    "\n",
    "- I python finns det ett utbud av klassmetoder för listobjekt, här är ett fåtal exempel:\n",
    "\n",
    "    - append()\n",
    "        - my_list.append(34)\n",
    "            - lägger till 34 som sista elementet\n",
    "    - insert()\n",
    "        - my_list.insert(1,\"banan\")\n",
    "            -lägger till \"banan på indexposition 1, alltså den andra positionen i listan eftersom indexering börjar på 0.\n",
    "    - remove()\n",
    "        -my_list.remove(\"banan\")\n",
    "            - itererar genom listan och tar bort det första elementet som den hittar som har strängvärdet \"banan\"\n",
    "\n",
    "\n",
    "En tuple är bra att användas när man behöver ha värden/värde som man vet aldrig kommer ändras eller vill förhindra att det ändras.\n",
    "En list är dynamisk och passar väldigt bra när man behöver ändra, lägga till och modifiera data.\n"
   ]
  },
  {
   "cell_type": "markdown",
   "id": "cf735e61",
   "metadata": {},
   "source": [
    "2. Vad är en funktion för något? Varför kan funktioner vara användbara?\n"
   ]
  },
  {
   "cell_type": "markdown",
   "id": "1cf4eaa5",
   "metadata": {},
   "source": [
    "En funktion är en samling kod man definerar som ska göra en specifik uppgift. Det går sedan att kalla på funktionen på andra ställen i kod-repot för att utnyttja funktionen.\n",
    "\n",
    "exempel:\n",
    "\n",
    "def my_function(x,y):\n",
    "    return x+y\n",
    "\n",
    "Denna lilla funktionen tar emot 2st variabler som argument och adderar dom. Sedan returneras värdet exempempelvis:\n",
    "\n",
    "print(my_function(5,3))\n",
    "\n",
    "output: 8\n",
    "\n",
    "En funktion kan deklararas med olika regler för argument. Man kan bestämma vilka datatyper den ska acceptera, eller om det ska vara keywords eller positional arguments.\n",
    "Genom att använda funktioner i sin kod får man mer struktur, det blir mer lättläsligt och blir enklare att felsöka.\n"
   ]
  },
  {
   "cell_type": "markdown",
   "id": "6eb886d9",
   "metadata": {},
   "source": [
    "3. Förklara vad nedanstående begrepp, kopplat till klasser, betyder:\n",
    "    a) Instans b) Attribut c) Metod\n"
   ]
  },
  {
   "cell_type": "markdown",
   "id": "b77e227e",
   "metadata": {},
   "source": [
    "\n",
    "a:\n",
    "En instans är ett objekt som skapas ur klassen. \n",
    "Man kan se klassen som en modellering och instansieringen returnerar ett objekt av den klassen.\n",
    "exempelvis:\n",
    "\n",
    "class Car:\n",
    "    def __init__(self, color,brand,milage):\n",
    "        self.color = color\n",
    "        self.brand = brand\n",
    "        self.milage = milage\n",
    "\n",
    "my_car = Car(\"Red\", \"BMW\", 15508)\n",
    "\n",
    "här har vi skapat en förenklad klass av en bil med attributen Färg, Märke och Miltal\n",
    "Efter klassdeklarationen så instansierar vi klassen och får tillbaka objektet my_car som är en Röd BMW med 15508 mil.\n",
    "\n",
    "b:\n",
    " Attribut är variabler som tillhör klassen, i detta fallet är våra attribut: color, brand, milage.\n",
    "\n",
    "c:\n",
    "En metod är en funktion som defineras inom klassen. Dessa kan användas för att beräkna eller behandla attribut eller att genomföra andra processer.\n",
    "\n",
    "class Car:\n",
    "    def __init__(self, color,brand,milage):\n",
    "        self.color = color\n",
    "        self.brand = brand\n",
    "        self.milage = milage\n",
    "    def unlock(self):\n",
    "        print(\"Car is now unlocked)\n",
    "\n",
    "my_car.unlock()\n",
    "\n",
    "output: \"Car is now unlocked\"\n",
    "\n",
    "Här har vi skapat en metod för att printa ut ett meddelande när bilen låses upp.\n"
   ]
  },
  {
   "cell_type": "markdown",
   "id": "bc50409c",
   "metadata": {},
   "source": [
    "4. Vad är Streamlit för något?"
   ]
  },
  {
   "cell_type": "markdown",
   "id": "dac4b521",
   "metadata": {},
   "source": [
    "Streamlit är ett opensource tredjeparts-ramverk för Python som används för att bygga webbapplikationer.\n",
    "Det är enkelt att komma igång med och kräver mycket lite kod för att skapa en interaktiv sida.\n",
    "\n",
    "Streamlit översätter Python-komponenter till HTML-element och hanterar automatiskt allt som behövs för att skapa en användarvänlig webbgränssnitt. Man behöver inte skriva någon HTML, CSS eller JavaScript.\n",
    "\n",
    "Streamlit installeras med en enkel pip eller conda install streamlit.\n",
    "Vid import så är konventionen att namnge den som 'st'\n",
    "\n",
    "ex:\n",
    "import streamlit as st\n",
    "\n",
    "st.title(\"Inlämningsuppgift\")\n",
    "\n",
    "Här har vi importerat streamlit biblioteket och namngett appen \"Inlämningsuppgift\"."
   ]
  },
  {
   "cell_type": "markdown",
   "id": "0b930073",
   "metadata": {},
   "source": [
    "- 5. \n",
    "    - BankAccount uppgift"
   ]
  },
  {
   "cell_type": "code",
   "execution_count": 8,
   "id": "3d526157",
   "metadata": {},
   "outputs": [
    {
     "name": "stdout",
     "output_type": "stream",
     "text": [
      "100000 was withdrawn. Remaining balance: 300000\n",
      "10000 was deposited, new balance is 310000\n",
      "Not enough balance\n",
      "Please enter a positive number\n",
      "Please enter a positive number\n"
     ]
    }
   ],
   "source": [
    "class BankAccount:\n",
    "    def __init__(self,account_holder: str,balance:float):\n",
    "        self.account_holder = account_holder\n",
    "        self.balance = balance\n",
    "\n",
    "    def Deposit(self, amount):\n",
    "        if amount > 0:\n",
    "            self.balance += amount\n",
    "            print(f'{amount} was deposited, new balance is {self.balance}')\n",
    "        else:\n",
    "            print(\"Please enter a positive number\")\n",
    "\n",
    "    def WithDraw(self, amount):\n",
    "        if amount > 0:\n",
    "            if amount <= self.balance:\n",
    "        \n",
    "             self.balance -= amount\n",
    "             print(f'{amount} was withdrawn. Remaining balance: {self.balance}')\n",
    "            else:\n",
    "                print(\"Not enough balance\")\n",
    "        else:\n",
    "            print(\"Please enter a positive number\")\n",
    "\n",
    "account_1 = BankAccount(\"Oskar Krantz\", 400000)\n",
    "\n",
    "#Tar ut 100.000 kr\n",
    "account_1.WithDraw(100000)\n",
    "\n",
    "#Sätter in 10.0000 kr\n",
    "account_1.Deposit(10000)\n",
    "\n",
    "#Försöker ta ut 500.000\n",
    "account_1.WithDraw(500000)\n",
    "\n",
    "#Försöker ta ut ett negativt tal\n",
    "account_1.WithDraw(-10)\n",
    "\n",
    "#Försöker sätta in ett negativt tal:\n",
    "account_1.Deposit(-100)\n",
    "        "
   ]
  },
  {
   "cell_type": "code",
   "execution_count": 19,
   "id": "8753b8c0",
   "metadata": {},
   "outputs": [
    {
     "name": "stdout",
     "output_type": "stream",
     "text": [
      "(2, ['e', 'a'])\n",
      "(4, ['y', 'o', 'i', 'u'])\n",
      "(5, ['o', 'u', 'a', 'ä', 'i'])\n",
      "(2, ['a', 'a'])\n"
     ]
    }
   ],
   "source": [
    "vowels = ('a','e','i','o','u','y','å','ä','ö')\n",
    "\n",
    "def vowel_checker(word: str):\n",
    "    count = 0\n",
    "    vowel_list = []\n",
    "    \n",
    "    for char in word.lower():\n",
    "        if char in vowels:\n",
    "            count +=1\n",
    "            vowel_list.append(char)\n",
    "    return count, vowel_list\n",
    "\n",
    "print(vowel_checker(\"hejsan\"))\n",
    "print(vowel_checker(\"Python is fun\"))\n",
    "print(vowel_checker(\"Joukkasjärvi\"))\n",
    "print(vowel_checker(\"Anna\"))\n"
   ]
  },
  {
   "cell_type": "code",
   "execution_count": null,
   "id": "26421d7c",
   "metadata": {},
   "outputs": [
    {
     "name": "stdout",
     "output_type": "stream",
     "text": [
      "{4}\n",
      "No common elements\n",
      "{3, 'banan', 'hej'}\n"
     ]
    }
   ],
   "source": [
    "#Common elements:\n",
    "\n",
    "def common_elements(x:list, y: list):\n",
    "    common = set(x).intersection(y)\n",
    "    if len(common) > 0:\n",
    "        return common\n",
    "    else:\n",
    "        return \"No common elements\"\n",
    "    \n",
    "# Gemensamt: 4\n",
    "print(common_elements([1,2,3,4],[4,5,6,7]))\n",
    "\n",
    "#Inga gemensamma element:\n",
    "print(common_elements([1,2,3,4],[5,6,7,8]))\n",
    "\n",
    "#Gemensamma element: \"hej\", \"banan\", 3\n",
    "print(common_elements([\"hej\", \"banan\", 3 , 5.5],[\"hej\",\"banan\", 3, 0]))"
   ]
  },
  {
   "cell_type": "markdown",
   "id": "3910ee9b",
   "metadata": {},
   "source": [
    "#8.\n",
    "Att statistik för barnafödande och storkpopulation korrelerar verkar stämma enligt grafen.\n",
    "Men det påvisar ingen kausalitet, det vill säga att barnafödande är en direkt efterföljd av att storkarna ökar i antal eller vice versa.\n",
    "\n",
    "#9.\n",
    "Att medelvärdet skulle vara ett \"bättre\" värde än medianen stämmer inte riktigt.\n",
    "Dom båda är bra beroende på hur värdena i talföljden ser ut.\n",
    "Skulle talföljden eller datan innehålla edge-cases där ett eller flera värden sticker ut för mycket från mängden så kan median vara ett bra alternativ.\n",
    "\n",
    "- 10,40,35,33,77,55,585\n",
    "    - Medelvärde: 115\n",
    "    - Median: 40\n",
    "\n",
    "#10.\n",
    "Ett cirkeldiagram visar andelar av något. Cirkeln motsvarar 100% och delas in i olika \"tårtbitar\" för att visualisera hur stor andel något är.\n",
    "Spotify skulle kunna ha delat in sina användare i ålderskategorier, t.ex 15-25, 26-35, 35-50, 51-65, 65-70+. Och efter det skulle man kunna samla in data på föredragen musikstil. T.ex: \"Hur ser fördelningen av lyssnare som till mestadels lyssnar på Hårdrock?\"\n",
    "\n",
    "#11.\n",
    "Ett linjediagram är ett diagram som ofta används till att visa hur något har förändrats över tid. \n",
    "Exempelvis skulle Spotify kunna ha ett diagram som på X-axeln visar ett tidsspann på 5 år med inkrement på kvartal. Y-axeln skulle då kunna visa exempelvis antal betalande kunder i Sverige. Punkter på grafen kan highlightas och en linje dras emellan dessa för att visa hur ökningar och minskningar sett ut.\n",
    "\n",
    "\n",
    "\n",
    "\n"
   ]
  },
  {
   "cell_type": "markdown",
   "id": "ed313b69",
   "metadata": {},
   "source": []
  }
 ],
 "metadata": {
  "kernelspec": {
   "display_name": "myproject",
   "language": "python",
   "name": "python3"
  },
  "language_info": {
   "codemirror_mode": {
    "name": "ipython",
    "version": 3
   },
   "file_extension": ".py",
   "mimetype": "text/x-python",
   "name": "python",
   "nbconvert_exporter": "python",
   "pygments_lexer": "ipython3",
   "version": "3.11.11"
  }
 },
 "nbformat": 4,
 "nbformat_minor": 5
}
